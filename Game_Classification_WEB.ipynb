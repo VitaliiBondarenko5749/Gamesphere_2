{
 "cells": [
  {
   "cell_type": "code",
   "execution_count": null,
   "id": "de5221ca-3326-4322-9882-24d9c9e459e7",
   "metadata": {},
   "outputs": [
    {
     "name": "stdout",
     "output_type": "stream",
     "text": [
      " * Serving Flask app '__main__'\n",
      " * Debug mode: on\n"
     ]
    },
    {
     "name": "stderr",
     "output_type": "stream",
     "text": [
      "C:\\Users\\bveta\\AppData\\Local\\Temp\\ipykernel_18380\\3803946574.py:13: FutureWarning: You are using `torch.load` with `weights_only=False` (the current default value), which uses the default pickle module implicitly. It is possible to construct malicious pickle data which will execute arbitrary code during unpickling (See https://github.com/pytorch/pytorch/blob/main/SECURITY.md#untrusted-models for more details). In a future release, the default value for `weights_only` will be flipped to `True`. This limits the functions that could be executed during unpickling. Arbitrary objects will no longer be allowed to be loaded via this mode unless they are explicitly allowlisted by the user via `torch.serialization.add_safe_globals`. We recommend you start setting `weights_only=True` for any use case where you don't have full control of the loaded file. Please open an issue on GitHub for any issues related to this experimental feature.\n",
      "  model = torch.load('games_classification_model_exp1.pth', map_location=device)\n",
      "WARNING: This is a development server. Do not use it in a production deployment. Use a production WSGI server instead.\n",
      " * Running on http://127.0.0.1:5101\n",
      "Press CTRL+C to quit\n",
      "127.0.0.1 - - [13/Nov/2024 01:12:28] \"POST /predict HTTP/1.1\" 200 -\n",
      "127.0.0.1 - - [13/Nov/2024 01:14:22] \"POST /predict HTTP/1.1\" 200 -\n",
      "127.0.0.1 - - [13/Nov/2024 01:14:56] \"POST /predict HTTP/1.1\" 200 -\n",
      "127.0.0.1 - - [13/Nov/2024 01:15:01] \"POST /predict HTTP/1.1\" 200 -\n",
      "127.0.0.1 - - [13/Nov/2024 01:15:18] \"POST /predict HTTP/1.1\" 200 -\n",
      "127.0.0.1 - - [13/Nov/2024 02:32:28] \"POST /predict HTTP/1.1\" 200 -\n",
      "127.0.0.1 - - [13/Nov/2024 02:32:42] \"POST /predict HTTP/1.1\" 200 -\n",
      "127.0.0.1 - - [13/Nov/2024 02:32:52] \"POST /predict HTTP/1.1\" 200 -\n",
      "127.0.0.1 - - [13/Nov/2024 02:33:05] \"POST /predict HTTP/1.1\" 200 -\n"
     ]
    }
   ],
   "source": [
    "from flask import Flask, request, jsonify\n",
    "import torch\n",
    "import torch.nn as nn\n",
    "from torchvision import models, transforms\n",
    "from PIL import Image\n",
    "import io\n",
    "\n",
    "# Ініціалізація Flask додатка\n",
    "app = Flask(__name__)\n",
    "\n",
    "# Завантаження моделі\n",
    "device = torch.device(\"cuda\" if torch.cuda.is_available() else \"cpu\")\n",
    "model = torch.load('games_classification_model_exp1.pth', map_location=device)\n",
    "model = model.to(device)\n",
    "model.eval()  # Перемикаємо модель в режим оцінки\n",
    "\n",
    "# Трансформації для передобробки зображення\n",
    "data_transforms = transforms.Compose([\n",
    "    transforms.Resize(256),\n",
    "    transforms.CenterCrop(224),\n",
    "    transforms.ToTensor(),\n",
    "    transforms.Normalize([0.485, 0.456, 0.406], [0.229, 0.224, 0.225])\n",
    "])\n",
    "\n",
    "# Назви класів\n",
    "class_names = [\"Among Us\", \"Apex Legends\", \"Fortnite\", \"Forza Horizon\", \"Free Fire\", \"Genshin Impact\", \"God of War\", \"Minecraft\", \"Roblox\",\n",
    "              \"Terraria\"]\n",
    "\n",
    "# Функція для передобробки зображення\n",
    "def preprocess_image(image):\n",
    "    image = Image.open(io.BytesIO(image)).convert(\"RGB\")\n",
    "    image = data_transforms(image)\n",
    "    image = image.unsqueeze(0)  # Додаємо batch dimension\n",
    "    return image.to(device)\n",
    "\n",
    "# Ендпоінт для прийому зображень і передбачення\n",
    "@app.route('/predict', methods=['POST'])\n",
    "def predict():\n",
    "    if 'file' not in request.files:\n",
    "        return jsonify({\"error\": \"Будь ласка, завантажте зображення\"}), 400\n",
    "\n",
    "    file = request.files['file']\n",
    "    img_bytes = file.read()\n",
    "    \n",
    "    # Передобробка зображення\n",
    "    image = preprocess_image(img_bytes)\n",
    "    \n",
    "   # Передбачення класу\n",
    "    with torch.no_grad():\n",
    "        outputs = model(image)\n",
    "        probabilities = torch.nn.functional.softmax(outputs, dim=1)  # Отримуємо ймовірності\n",
    "        max_prob, predicted = torch.max(probabilities, 1)\n",
    "        predicted_class = class_names[predicted.item()]    \n",
    "        \n",
    "        return jsonify({\"result\": f\"This is {predicted_class} {max_prob.item()*100:.1f}%\"})\n",
    "\n",
    "# Запуск сервера\n",
    "if __name__ == '__main__':\n",
    "    app.run(debug=True, port=5101, use_reloader=False)"
   ]
  },
  {
   "cell_type": "code",
   "execution_count": null,
   "id": "6b06ccdb-8ab8-46ed-917c-7cc77e1e8fc9",
   "metadata": {},
   "outputs": [],
   "source": []
  }
 ],
 "metadata": {
  "kernelspec": {
   "display_name": "Python 3 (ipykernel)",
   "language": "python",
   "name": "python3"
  },
  "language_info": {
   "codemirror_mode": {
    "name": "ipython",
    "version": 3
   },
   "file_extension": ".py",
   "mimetype": "text/x-python",
   "name": "python",
   "nbconvert_exporter": "python",
   "pygments_lexer": "ipython3",
   "version": "3.12.4"
  }
 },
 "nbformat": 4,
 "nbformat_minor": 5
}
